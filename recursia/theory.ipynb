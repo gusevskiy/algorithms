{
 "cells": [
  {
   "attachments": {},
   "cell_type": "markdown",
   "metadata": {},
   "source": [
    "Рекурсия\n",
    "Рассмотрим рекурсивную функцию, которая создаёт матрёшку размера \n",
    "size с n−1 матрёшкой внутри."
   ]
  },
  {
   "attachments": {},
   "cell_type": "markdown",
   "metadata": {},
   "source": [
    "Что бы решить задачу рекурсивным способом, нужно определить базовый и рекурсивный случаию"
   ]
  },
  {
   "cell_type": "code",
   "execution_count": 1,
   "metadata": {},
   "outputs": [
    {
     "name": "stdout",
     "output_type": "stream",
     "text": [
      "Создаем низ матрешки размера 4.\n",
      "Создаем низ матрешки размера 3.\n",
      "Создаем низ матрешки размера 2.\n",
      "Создаем верх матрешки размера 2.\n",
      "Создаем верх матрешки размера 3.\n",
      "Создаем верх матрешки размера 4.\n"
     ]
    }
   ],
   "source": [
    "def build_matryoshka(size, n):\n",
    "    if n >= 1:\n",
    "        print(f\"Создаем низ матрешки размера {size}.\")\n",
    "        build_matryoshka(size -1, n -1)\n",
    "        print(f\"Создаем верх матрешки размера {size}.\")\n",
    "    else:\n",
    "        return\n",
    "\n",
    "\n",
    "if __name__ == '__main__':\n",
    "    build_matryoshka(4, 3)\n"
   ]
  },
  {
   "attachments": {},
   "cell_type": "markdown",
   "metadata": {},
   "source": [
    "функцию для вычисления двоичной записи любого целого числа"
   ]
  },
  {
   "cell_type": "code",
   "execution_count": 22,
   "metadata": {},
   "outputs": [
    {
     "name": "stdout",
     "output_type": "stream",
     "text": [
      "-110\n",
      "b110\n"
     ]
    }
   ],
   "source": [
    "def as_binary_string(n):\n",
    "    if n < 0:\n",
    "        return '-'+ as_binary_string(-n)\n",
    "    if n == 0 or n == 1:\n",
    "        return str(n)\n",
    "    last_digit = n % 2\n",
    "    return as_binary_string(n // 2) + str(last_digit)\n",
    "\n",
    "\n",
    "if __name__ == '__main__':\n",
    "    print(as_binary_string(-6))\n",
    "    print(bin(-6)[2:])"
   ]
  },
  {
   "attachments": {},
   "cell_type": "markdown",
   "metadata": {},
   "source": [
    "Бинарный поиск с помощью рекурсии."
   ]
  },
  {
   "cell_type": "code",
   "execution_count": 24,
   "metadata": {},
   "outputs": [],
   "source": [
    "num_arr = [0, 1, 2, 3, 4, 5, ]"
   ]
  },
  {
   "cell_type": "code",
   "execution_count": 26,
   "metadata": {},
   "outputs": [
    {
     "name": "stdout",
     "output_type": "stream",
     "text": [
      "2\n"
     ]
    }
   ],
   "source": [
    "def binarySearch(arr, x, left, right):\n",
    "    if right <= left:\n",
    "        return -1\n",
    "    mid = (left + right) // 2\n",
    "    if arr[mid] == x:\n",
    "        return mid\n",
    "    elif x < arr[mid]: # поменять местами если сортировка в обратном порядке\n",
    "        return binarySearch(arr, x, left, mid)\n",
    "    else:\n",
    "        return binarySearch(arr, x, mid + 1, right)\n",
    "\n",
    "if __name__ == '__main__':\n",
    "    print(binarySearch(num_arr, 2, 0, len(num_arr)))"
   ]
  },
  {
   "attachments": {},
   "cell_type": "markdown",
   "metadata": {},
   "source": [
    "Генерация последовательностей из 0 и 1\n",
    "* Функция принимает в качестве параметра число n и строку prefix. Вызываем функцию с параметром n и значением prefix, равным пустой строке. Далее будем добавлять в эту строку 0 и 1. В каждом рекурсивном вызове n означает, сколько ещё символов нужно добавить в строку. Рекурсия останавливается, когда n = 0, то есть символы добавлять больше не требуется. Это базовый случай рекурсии.\n",
    "В рекурсивном случае функция вызывает себя дважды, но с разными параметрами. В первый раз она добавляет в строку prefix цифру 0, а во второй раз — 1. При этом значение n каждый раз уменьшается на 1, а prefix удлиняется на один символ. Таким образом, рекурсия уходит на n уровней в глубину."
   ]
  },
  {
   "cell_type": "code",
   "execution_count": 1,
   "metadata": {
    "pycharm": {
     "is_executing": true
    }
   },
   "outputs": [
    {
     "name": "stdout",
     "output_type": "stream",
     "text": [
      "000\n",
      "001\n",
      "010\n",
      "011\n",
      "100\n",
      "101\n",
      "110\n",
      "111\n"
     ]
    }
   ],
   "source": [
    "def gen_binary(n, prefix):\n",
    "    if n == 0:\n",
    "        print(prefix)\n",
    "    else:\n",
    "        gen_binary(n - 1, prefix + '0')\n",
    "        gen_binary(n - 1, prefix + '1')\n",
    "\n",
    "\n",
    "if __name__ == '__main__':\n",
    "    gen_binary(3, '')"
   ]
  },
  {
   "cell_type": "code",
   "execution_count": 2,
   "metadata": {
    "collapsed": false
   },
   "outputs": [
    {
     "name": "stdout",
     "output_type": "stream",
     "text": [
      "summ =  34\n"
     ]
    }
   ],
   "source": [
    "# Рекурсивная функция - возвращает сумму чисел во входящем наборе\n",
    "def CalcSumNumbers(A):\n",
    "    if A == []:\n",
    "        # если набор пуст, возвратить 0\n",
    "        return 0\n",
    "    else:\n",
    "        # Вычислить сумму - прибавить первый элемент набора\n",
    "        summ = CalcSumNumbers(A[1:]) # рекурсивный вызов этой же функции\n",
    "\n",
    "        # Прибавить к общей сумме первый элемент\n",
    "        summ = summ + A[0]\n",
    "\n",
    "        return summ\n",
    "\n",
    "# Демонстрация использования функции CalcSumNumbers()\n",
    "# 1. Создать набор чисел\n",
    "L = [ 2, 3, 8, 11, 4, 6 ]\n",
    "\n",
    "# 2. Вызвать функцию\n",
    "summ = CalcSumNumbers(L)\n",
    "\n",
    "# 3. Распечатать сумму\n",
    "print(\"summ = \", summ)"
   ]
  }
 ],
 "metadata": {
  "kernelspec": {
   "display_name": "venv",
   "language": "python",
   "name": "python3"
  },
  "language_info": {
   "codemirror_mode": {
    "name": "ipython",
    "version": 3
   },
   "file_extension": ".py",
   "mimetype": "text/x-python",
   "name": "python",
   "nbconvert_exporter": "python",
   "pygments_lexer": "ipython3",
   "version": "3.10.6"
  },
  "orig_nbformat": 4
 },
 "nbformat": 4,
 "nbformat_minor": 2
}
