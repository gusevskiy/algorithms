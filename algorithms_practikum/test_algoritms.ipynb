{
 "cells": [
  {
   "cell_type": "code",
   "execution_count": 1,
   "outputs": [
    {
     "name": "stdout",
     "output_type": "stream",
     "text": [
      "[1, 2, 3, 2, 1, 0, 0, 1, 0, 1, 2, 2, 1, 0, 0, 0, 1, 2, 3, 4]\n"
     ]
    }
   ],
   "source": [
    "def zerros(total, list_count):\n",
    "    zero_index = []\n",
    "    index_back = []\n",
    "    index = []\n",
    "    ds = []\n",
    "    a = 1\n",
    "    for i, y in enumerate(list_count):\n",
    "        if y == 0:\n",
    "            index.append(0)\n",
    "            zero_index.append(i)\n",
    "            a = 1\n",
    "        elif y >= 1:\n",
    "            index.append(a)\n",
    "            a += 1\n",
    "    if len(zero_index) == 1:\n",
    "        for e, r in enumerate(list_count[:zero_index[-1]+1][::-1]):\n",
    "            if r == 0:\n",
    "                index_back.append(e)\n",
    "                a = 1\n",
    "            elif r >= 1:\n",
    "                index_back.append(a)\n",
    "                a += 1\n",
    "        index_back_revers = list(\n",
    "                reversed(index_back)\n",
    "            ) + index[zero_index[-1] + 1:]\n",
    "        return index_back_revers\n",
    "\n",
    "    if len(zero_index) > 1:\n",
    "        for e, r in enumerate(list_count[:zero_index[-1]+1][::-1]):\n",
    "            if r == 0:\n",
    "                index_back.append(e)\n",
    "                a = 1\n",
    "            elif r >= 1:\n",
    "                index_back.append(a)\n",
    "                a += 1\n",
    "    index_back_revers = list(reversed(index_back))+index[zero_index[-1]+1:]\n",
    "    for i in range(len(list_count)):\n",
    "        ds.append(min(index_back_revers[i], index[i]))\n",
    "    return ds\n",
    "\n",
    "\n",
    "if __name__ == '__main__':\n",
    "    street = 10,13,31,35,39,0,0,59,0,66,68,73,74,0,0,0,87,89,96,99\n",
    "    # street = 99, 0, 100, 72, 43, 49, 0, 51, 19, 61, 93, 31\n",
    "    # for i in street[2:5]:\n",
    "    #     print(i)\n",
    "    # print(long_street(8, street))\n",
    "    print(zerros(8, street))\n"
   ],
   "metadata": {
    "collapsed": false
   }
  },
  {
   "cell_type": "code",
   "execution_count": null,
   "outputs": [],
   "source": [],
   "metadata": {
    "collapsed": false
   }
  }
 ],
 "metadata": {
  "kernelspec": {
   "display_name": "Python 3",
   "language": "python",
   "name": "python3"
  },
  "language_info": {
   "codemirror_mode": {
    "name": "ipython",
    "version": 2
   },
   "file_extension": ".py",
   "mimetype": "text/x-python",
   "name": "python",
   "nbconvert_exporter": "python",
   "pygments_lexer": "ipython2",
   "version": "2.7.6"
  }
 },
 "nbformat": 4,
 "nbformat_minor": 0
}
