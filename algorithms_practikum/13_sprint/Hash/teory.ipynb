{
 "cells": [
  {
   "cell_type": "markdown",
   "source": [
    "Подсчет количества элементов в массиве"
   ],
   "metadata": {
    "collapsed": false
   }
  },
  {
   "cell_type": "code",
   "execution_count": 5,
   "outputs": [
    {
     "name": "stdout",
     "output_type": "stream",
     "text": [
      "{'яблоко': 3, 'груша': 1, 'слива': 1}\n"
     ]
    }
   ],
   "source": [
    "fruits = [\"яблоко\", \"яблоко\", \"груша\", \"яблоко\", \"слива\"]\n",
    "fruit_count = { }  # создаём пустой ассоциативный массив\n",
    "for fruit in fruits:\n",
    "    if not fruit in fruit_count:  # если в отображении\n",
    "        # нет такого\n",
    "        # ключа\n",
    "        fruit_count[fruit] = 0   # заводим счётчик с таким ключом\n",
    "    fruit_count[fruit] += 1    # увеличиваем счётчик:\n",
    "\n",
    "print(fruit_count)"
   ],
   "metadata": {
    "collapsed": false
   }
  },
  {
   "cell_type": "markdown",
   "source": [
    "Получение элемента по ключу.\n",
    "Если нужно получить элемент по ключу, достаточно пройти по всем элементам списка, выбрать пару с подходящим значением ключа и вернуть значение, записанное в этой паре. Если значение нужно записать, ищем пару с указанным ключом. Если находим, то изменяем её. А если такая пара не нашлась, создаём её и добавляем в конец массива."
   ],
   "metadata": {
    "collapsed": false
   }
  },
  {
   "cell_type": "code",
   "execution_count": null,
   "outputs": [],
   "source": [
    "'''\n",
    "структура Map:\n",
    "    pairs = []\n",
    "\n",
    "    метод get(key):\n",
    "        for pair in pairs:\n",
    "            if pair.key == key:  # пара с указанным ключом найдена\n",
    "                return pair.value\n",
    "        return None\n",
    "\n",
    "    метод set(key, value):\n",
    "        for pair in pairs:\n",
    "            if pair.key == key: # пара с указанным ключом найдена\n",
    "                # обновить значение в найденной паре\n",
    "                pair.value = value\n",
    "                return\n",
    "        # пара с заданным ключом не найдена\n",
    "        добавить пару (key, value) в pairs\n",
    "'''"
   ],
   "metadata": {
    "collapsed": false
   }
  },
  {
   "cell_type": "code",
   "execution_count": null,
   "outputs": [],
   "source": [],
   "metadata": {
    "collapsed": false
   }
  }
 ],
 "metadata": {
  "kernelspec": {
   "display_name": "Python 3",
   "language": "python",
   "name": "python3"
  },
  "language_info": {
   "codemirror_mode": {
    "name": "ipython",
    "version": 2
   },
   "file_extension": ".py",
   "mimetype": "text/x-python",
   "name": "python",
   "nbconvert_exporter": "python",
   "pygments_lexer": "ipython2",
   "version": "2.7.6"
  }
 },
 "nbformat": 4,
 "nbformat_minor": 0
}
